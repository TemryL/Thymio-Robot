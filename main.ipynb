{
 "cells": [
  {
   "cell_type": "code",
   "execution_count": 1,
   "metadata": {},
   "outputs": [],
   "source": [
    "import numpy as np \n",
    "import cv2 as cv\n",
    "import sys\n",
    "import math\n",
    "from tdmclient import ClientAsync\n",
    "from set_up import initialization, RepeatedTimer \n",
    "from obstacle_detection import find_obstacles\n",
    "from path_planning import get_graph_features, find_path, draw_graph, draw_path\n",
    "from thymio_state import update_thymio_state, get_thymio_state\n",
    "from path_following import update_motor, goal_reached, motors, update_instant_target\n",
    "from local_avoidance import is_obstacle, avoid_obstacle "
   ]
  },
  {
   "cell_type": "code",
   "execution_count": 2,
   "metadata": {},
   "outputs": [
    {
     "data": {
      "text/plain": [
       "Node c840c803-5e0f-416f-ae5d-a54e0adeec35"
      ]
     },
     "execution_count": 2,
     "metadata": {},
     "output_type": "execute_result"
    }
   ],
   "source": [
    "client = ClientAsync()\n",
    "node = await client.wait_for_node()\n",
    "await node.lock()"
   ]
  },
  {
   "cell_type": "code",
   "execution_count": 3,
   "metadata": {},
   "outputs": [
    {
     "name": "stdout",
     "output_type": "stream",
     "text": [
      "Select bounding box containing rectangle with an area of 1/4 of an A4 sheet :\n",
      "m2pix_coeff :  524.5458116138587\n"
     ]
    }
   ],
   "source": [
    "video = cv.VideoCapture(2) # for using CAM\n",
    "# Exit if video not opened.\n",
    "if not video.isOpened():\n",
    "    print(\"Could not open video\")\n",
    "    sys.exit()\n",
    "# Read first frame.\n",
    "ok, initial_frame = video.read()\n",
    "if not ok:\n",
    "    print('Cannot read video file')\n",
    "    sys.exit()\n",
    "\n",
    "# Select bounding box containing rectangle with an area of 1/4 of an A4 sheet:\n",
    "print(\"Select bounding box containing rectangle with an area of 1/4 of an A4 sheet :\")\n",
    "A4_box = cv.selectROI(initial_frame, False)\n",
    "cv.destroyAllWindows()\n",
    "video.release()\n",
    "\n",
    "# Set the coefficient to pass from meter to pixel :\n",
    "length_m = 4*math.sqrt(155.925)*(10**(-2))\n",
    "length_pix = 2*+A4_box[3] + 2*A4_box[2]\n",
    "m2pix_coeff = length_pix/length_m\n",
    "print(\"m2pix_coeff : \", m2pix_coeff)"
   ]
  },
  {
   "cell_type": "code",
   "execution_count": 4,
   "metadata": {},
   "outputs": [],
   "source": [
    "# Main\n",
    "m2pix_coeff = 508.52914561038216\n",
    "async def main():\n",
    "    sampling_time = 0.1     # sampling time   \n",
    "    speed_target =  100     # desired speed\n",
    "    tol = 30                # [pixels]\n",
    "    \n",
    "    # Initialisation of the environment :\n",
    "    video, tracker, ok, start, goal, initial_frame, bbox, background_color = initialization()\n",
    "    frame = initial_frame.copy()\n",
    "    \n",
    "    # Pre-process first frame to remove Thymio :\n",
    "    image = initial_frame.copy()\n",
    "    image[bbox[1]:bbox[1]+bbox[3], bbox[0]:bbox[0]+bbox[2], :]  = background_color\n",
    "    \n",
    "    # Find obstacles and expand them by half of the thymio size:\n",
    "    obstacles = find_obstacles(image, number_of_colors = 2, m2pix_coeff = m2pix_coeff)\n",
    "    \n",
    "    # Find path from start to goal :\n",
    "    path_coords = find_path(start, obstacles, goal)\n",
    "    \n",
    "    # Display the visibility graph and path on initial frame :\n",
    "    nodes, edges = get_graph_features(start, obstacles, goal)\n",
    "    initial_frame = draw_graph(initial_frame, nodes, edges)\n",
    "    initial_frame = draw_path(initial_frame, path_coords)\n",
    "    cv.imshow(\"Visibility graph and path\", initial_frame)\n",
    "    cv.waitKey(0)\n",
    "    cv.destroyAllWindows()\n",
    "    \n",
    "    ############################################################\n",
    "    \n",
    "    await node.wait_for_variables()\n",
    "    \n",
    "    i = 1\n",
    "    # Initialization :\n",
    "    thymio_state = []\n",
    "    instant_target = []\n",
    "    delta_target = []\n",
    "    \n",
    "    # Update Thymio state :\n",
    "    state_check, angle, center = get_thymio_state(frame, bbox)\n",
    "    while not state_check :\n",
    "        # Read a new frame\n",
    "        ok, frame = video.read()\n",
    "        if not ok:\n",
    "            break\n",
    "        \n",
    "        # Update tracker\n",
    "        ok, bbox = tracker.update(frame)\n",
    "        if ok:\n",
    "            # Tracking success\n",
    "            pass\n",
    "        else :\n",
    "            # Tracking failure\n",
    "            cv.putText(frame, \"Tracking failure detected\", (100,80), cv.FONT_HERSHEY_SIMPLEX, 0.75,(0,0,255),2)\n",
    "        \n",
    "        # Update Thymio state :\n",
    "        state_check, angle, center = get_thymio_state(frame, bbox)\n",
    "        \n",
    "        # Display result\n",
    "        draw_path(frame, path_coords)\n",
    "        cv.imshow(\"Tracking\", frame)\n",
    "        \n",
    "    thymio_state.append((center[0], center[1], angle))\n",
    "    \n",
    "    # Display result\n",
    "    cv.imshow(\"Tracking\", initial_frame)\n",
    "    \n",
    "    x_meas = []\n",
    "    x_meas.append(thymio_state[-1])\n",
    "    \n",
    "    # Set initial estimated state :\n",
    "    x_est = [np.array([thymio_state[-1][0], thymio_state[-1][1], thymio_state[-1][2]])]\n",
    "    P_est = [1000 * np.ones(3)]\n",
    "    \n",
    "    start_i = [np.array(path_coords[i-1])]\n",
    "    goal_i = [np.array(path_coords[i])]\n",
    "    \n",
    "    target_new, delta_new = update_instant_target(start_i[-1], goal_i[-1], speed_target, sampling_time)\n",
    "    instant_target.append(target_new)\n",
    "    delta_target.append(delta_new)\n",
    "    \n",
    "    rt = RepeatedTimer(sampling_time, update_motor, thymio_state, x_meas, x_est, P_est, instant_target, delta_target, goal_i, m2pix_coeff, node, sampling_time)\n",
    "    \n",
    "    while not goal_reached(goal, tol, x_est[-1]):\n",
    "        await client.sleep(1/100)\n",
    "        #######################################################\n",
    "        # Local avoidance :\n",
    "        if is_obstacle(node) :\n",
    "            rt.stop()\n",
    "            while is_obstacle(node) :\n",
    "                avoid_obstacle(speed_target, node)\n",
    "                await client.sleep(1/100)\n",
    "                \n",
    "                # Read a new frame\n",
    "                ok, frame = video.read()\n",
    "                if not ok:\n",
    "                    break\n",
    "                # Update tracker\n",
    "                ok, bbox = tracker.update(frame)\n",
    "                if ok:\n",
    "                    # Tracking success\n",
    "                    pass\n",
    "                else :\n",
    "                    # Tracking failure\n",
    "                    cv.putText(frame, \"Tracking failure detected\", (100,80), cv.FONT_HERSHEY_SIMPLEX, 0.75,(0,0,255),2)\n",
    "                    \n",
    "                # Update Thymio state :\n",
    "                update_thymio_state(frame, bbox, thymio_state)\n",
    "                \n",
    "                # Display result\n",
    "                draw_path(frame, path_coords)\n",
    "                cv.imshow(\"Tracking\", frame)\n",
    "            \n",
    "            # Set initial estimated state :\n",
    "            x_est = [np.array([thymio_state[-1][0], thymio_state[-1][1], thymio_state[-1][2]])]\n",
    "            P_est = [1000 * np.ones(3)]\n",
    "            \n",
    "            start_i = [np.array([thymio_state[-1][0], thymio_state[-1][1]])]\n",
    "            goal_i = [np.array(path_coords[i])]\n",
    "            \n",
    "            target_new, delta_new = update_instant_target(start_i[-1], goal_i[-1], speed_target, sampling_time)\n",
    "            instant_target.append(target_new)\n",
    "            delta_target.append(delta_new)\n",
    "            \n",
    "            x_meas.append(thymio_state[-1])\n",
    "            rt = RepeatedTimer(sampling_time, update_motor, thymio_state, x_meas, x_est, P_est, instant_target, delta_target, goal_i, m2pix_coeff, node, sampling_time)\n",
    "            \n",
    "        ###################################################\n",
    "        # Read a new frame\n",
    "        ok, frame = video.read()\n",
    "        if not ok:\n",
    "            break\n",
    "        # Update tracker\n",
    "        ok, bbox = tracker.update(frame)\n",
    "        if ok:\n",
    "            # Tracking success\n",
    "            pass\n",
    "        else :\n",
    "            # Tracking failure\n",
    "            cv.putText(frame, \"Tracking failure detected\", (100,80), cv.FONT_HERSHEY_SIMPLEX, 0.75,(0,0,255),2)\n",
    "        \n",
    "        # Update Thymio state :\n",
    "        update_thymio_state(frame, bbox, thymio_state)\n",
    "        \n",
    "        # Display result\n",
    "        draw_path(frame, path_coords)\n",
    "        cv.imshow(\"Tracking\", frame)\n",
    "        \n",
    "        ############################################################\n",
    "        \n",
    "        if goal_reached(goal_i[-1], tol, x_est[-1]):\n",
    "            i = i+1\n",
    "            if i == len(path_coords): \n",
    "                break\n",
    "            start_i.append(np.array(path_coords[i-1]))\n",
    "            goal_i.append(np.array(path_coords[i]))\n",
    "            target_new, delta_new = update_instant_target(start_i[-1], goal_i[-1], speed_target, sampling_time)\n",
    "            instant_target.append(target_new)\n",
    "            delta_target.append(delta_new)\n",
    "        # Exit if ESC pressed\n",
    "        if cv.waitKey(1) & 0xFF == ord('q'): # if press SPACE bar\n",
    "            break\n",
    "    \n",
    "    # Close everything and exit :\n",
    "    rt.stop()\n",
    "    node.send_set_variables(motors(0, 0))\n",
    "    video.release()\n",
    "    cv.destroyAllWindows()\n",
    "    return path_coords, thymio_state, x_est"
   ]
  },
  {
   "cell_type": "code",
   "execution_count": 6,
   "metadata": {},
   "outputs": [
    {
     "name": "stdout",
     "output_type": "stream",
     "text": [
      "Select bounding box containing the Thymio\n",
      "Select goal position\n",
      "Select bounding box containing background only\n"
     ]
    }
   ],
   "source": [
    "path_coords, thymio_state, x_est = await main()"
   ]
  },
  {
   "cell_type": "code",
   "execution_count": 5,
   "metadata": {},
   "outputs": [
    {
     "data": {
      "image/png": "[encoded data removed]",
      "text/plain": [
       "<Figure size 720x720 with 1 Axes>"
      ]
     },
     "metadata": {
      "needs_background": "light"
     },
     "output_type": "display_data"
    }
   ],
   "source": [
    "import matplotlib.pyplot as plt\n",
    "# Plot results :\n",
    "plt.figure(figsize=(10,10))\n",
    "plt.title(\"Trajectory\")\n",
    "plt.xlabel(\"x [pix]\")\n",
    "plt.ylabel(\"y [pix]\")\n",
    "\n",
    "for node in path_coords :\n",
    "    plt.scatter(node[0], node[1], marker=\"o\", color=\"r\")\n",
    "for state in thymio_state:\n",
    "    plt.scatter(state[0], state[1], marker=\"o\", color=\"g\")\n",
    "for i in range(len(x_est)-1):\n",
    "    plt.scatter(x_est[i+1][0], x_est[i+1][1], marker=\"o\", color=\"b\")\n",
    "\n",
    "plt.legend(['path', 'x measured (cam)', 'x estimated (EKF)'])\n",
    "plt.gca().invert_yaxis()"
   ]
  }
 ],
 "metadata": {
  "interpreter": {
   "hash": "c5b322d1f5beaecfb28b050f61b5bc2c682da0c88a01138942a1439f934c1c07"
  },
  "kernelspec": {
   "display_name": "Python 3.9.1 64-bit",
   "language": "python",
   "name": "python3"
  },
  "language_info": {
   "codemirror_mode": {
    "name": "ipython",
    "version": 3
   },
   "file_extension": ".py",
   "mimetype": "text/x-python",
   "name": "python",
   "nbconvert_exporter": "python",
   "pygments_lexer": "ipython3",
   "version": "3.9.1"
  },
  "orig_nbformat": 4
 },
 "nbformat": 4,
 "nbformat_minor": 2
}
